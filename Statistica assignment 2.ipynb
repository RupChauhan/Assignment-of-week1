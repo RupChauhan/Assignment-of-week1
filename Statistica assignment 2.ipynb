{
  "metadata": {
    "language_info": {
      "codemirror_mode": {
        "name": "python",
        "version": 3
      },
      "file_extension": ".py",
      "mimetype": "text/x-python",
      "name": "python",
      "nbconvert_exporter": "python",
      "pygments_lexer": "ipython3",
      "version": "3.8"
    },
    "kernelspec": {
      "name": "python",
      "display_name": "Python (Pyodide)",
      "language": "python"
    }
  },
  "nbformat_minor": 4,
  "nbformat": 4,
  "cells": [
    {
      "cell_type": "code",
      "source": "'''Q1. What are the three measures of central tendency?\nQ2. What is the difference between the mean, median, and mode? How are they used to measure the\ncentral tendency of a dataset?\nQ3. Measure the three measures of central tendency for the given height data:\n[178,177,176,177,178.2,178,175,179,180,175,178.9,176.2,177,172.5,178,176.5]\nQ4. Find the standard deviation for the given data:\n[178,177,176,177,178.2,178,175,179,180,175,178.9,176.2,177,172.5,178,176.5]\nQ5. How are measures of dispersion such as range, variance, and standard deviation used to describe\nthe spread of a dataset? Provide an example.\nQ6. What is a Venn diagram?\nQ7. For the two given sets A = (2,3,4,5,6,7) & B = (0,2,6,8,10). Find:\n(i)A B\n(ii) A ⋃ B\nQ8. What do you understand about skewness in data?\nQ9. If a data is right skewed then what will be the position of median with respect to mean?\nQ10. Explain the difference between covariance and correlation. How are these measures used in\nstatistical analysis?\nQ11. What is the formula for calculating the sample mean? Provide an example calculation for a\ndataset.\nQ12. For a normal distribution data what is the relationship between its measure of central tendency?\nQ13. How is covariance different from correlation?\nQ14. How do outliers affect measures of central tendency and dispersion? Provide an example.'''\n",
      "metadata": {},
      "execution_count": null,
      "outputs": []
    },
    {
      "cell_type": "code",
      "source": "#Q1. What are the three measures of central tendency?\n#Answer-\n#Mean, Median and Mode",
      "metadata": {},
      "execution_count": null,
      "outputs": []
    },
    {
      "cell_type": "code",
      "source": "'''Q2. What is the difference between the mean, median, and mode? How are they used to measure the\ncentral tendency of a dataset?'''\n#Answer:-\n'''Mean:- It is used to find the average of the given data.\nMedian:- it is used to find the central tendency when outlier present in an ordered list.\nMode:- It is used to find the most frequent value in given list.\n'''",
      "metadata": {},
      "execution_count": null,
      "outputs": []
    },
    {
      "cell_type": "code",
      "source": "'''Q3. Measure the three measures of central tendency for the given height data:\n[178,177,176,177,178.2,178,175,179,180,175,178.9,176.2,177,172.5,178,176.5]'''\n#answer:- \nmean = \n",
      "metadata": {},
      "execution_count": null,
      "outputs": []
    },
    {
      "cell_type": "code",
      "source": "l=[178,177,176,177,178.2,178,175,179,180,175,178.9,176.2,177,172.5,178,176.5]",
      "metadata": {
        "trusted": true
      },
      "execution_count": 1,
      "outputs": []
    },
    {
      "cell_type": "code",
      "source": "import numpy as np\n\nnp.mean(l)\n",
      "metadata": {
        "trusted": true
      },
      "execution_count": 7,
      "outputs": [
        {
          "execution_count": 7,
          "output_type": "execute_result",
          "data": {
            "text/plain": "177.01875"
          },
          "metadata": {}
        }
      ]
    },
    {
      "cell_type": "code",
      "source": "np.median(l)",
      "metadata": {
        "trusted": true
      },
      "execution_count": 8,
      "outputs": [
        {
          "execution_count": 8,
          "output_type": "execute_result",
          "data": {
            "text/plain": "177.0"
          },
          "metadata": {}
        }
      ]
    },
    {
      "cell_type": "code",
      "source": "from scipy import stats\nstats.mode(l)",
      "metadata": {
        "trusted": true
      },
      "execution_count": 11,
      "outputs": [
        {
          "name": "stderr",
          "text": "<ipython-input-11-a6b699df8a07>:2: FutureWarning: Unlike other reduction functions (e.g. `skew`, `kurtosis`), the default behavior of `mode` typically preserves the axis it acts along. In SciPy 1.11.0, this behavior will change: the default value of `keepdims` will become False, the `axis` over which the statistic is taken will be eliminated, and the value None will no longer be accepted. Set `keepdims` to True or False to avoid this warning.\n  stats.mode(l)\n",
          "output_type": "stream"
        },
        {
          "execution_count": 11,
          "output_type": "execute_result",
          "data": {
            "text/plain": "ModeResult(mode=array([177.]), count=array([3]))"
          },
          "metadata": {}
        }
      ]
    },
    {
      "cell_type": "code",
      "source": "#Q4. Find the standard deviation for the given data:\nl2=[178,177,176,177,178.2,178,175,179,180,175,178.9,176.2,177,172.5,178,176.5]\nimport numpy as np\nnp.std(l2)",
      "metadata": {
        "trusted": true
      },
      "execution_count": 12,
      "outputs": [
        {
          "execution_count": 12,
          "output_type": "execute_result",
          "data": {
            "text/plain": "1.7885814036548633"
          },
          "metadata": {}
        }
      ]
    },
    {
      "cell_type": "code",
      "source": "",
      "metadata": {},
      "execution_count": null,
      "outputs": []
    },
    {
      "cell_type": "code",
      "source": "#Q5. How are measures of dispersion such as range, variance, and standard deviation used to describe the spread of a dataset? Provide an example.\n#Answer:- \n#Range:- The difference between highest and lowest values.\n#Variance:-A statistical measurement of the spread between numbers in a data set.\n#Standard deviatation:-The average amount of variability in dataset\n#Example\nimport numpy as np # Variance\nnp.var(l2)",
      "metadata": {
        "trusted": true
      },
      "execution_count": 14,
      "outputs": [
        {
          "execution_count": 14,
          "output_type": "execute_result",
          "data": {
            "text/plain": "3.199023437500001"
          },
          "metadata": {}
        }
      ]
    },
    {
      "cell_type": "code",
      "source": "np.std(l1) # Standard Deviation",
      "metadata": {
        "trusted": true
      },
      "execution_count": 15,
      "outputs": [
        {
          "execution_count": 15,
          "output_type": "execute_result",
          "data": {
            "text/plain": "23.37733945512192"
          },
          "metadata": {}
        }
      ]
    },
    {
      "cell_type": "code",
      "source": "#Q6. What is a Venn diagram?\n#Answer:-\n#It is an illustration that uses circles to show the relationships among things or finit groups of things.",
      "metadata": {},
      "execution_count": null,
      "outputs": []
    },
    {
      "cell_type": "code",
      "source": "#Q7. For the two given sets A = (2,3,4,5,6,7) & B = (0,2,6,8,10). Find: \n#Answer\n#(i) A B = (2,6)\n#(ii) A ⋃ B =(0,2,3,4,5,6,7,8,10)\n\n",
      "metadata": {},
      "execution_count": null,
      "outputs": []
    },
    {
      "cell_type": "code",
      "source": "#Q8. What do you understand about skewness in data?\n#Answer:- It is a measurement of the distortion of symmetrical distribution or asymmetry in a data set.\n",
      "metadata": {},
      "execution_count": null,
      "outputs": []
    },
    {
      "cell_type": "code",
      "source": "#Q9. If a data is right skewed then what will be the position of median with respect to mean?\n#Answer:- The mode is often less than the median, which is less than the mean.",
      "metadata": {},
      "execution_count": null,
      "outputs": []
    },
    {
      "cell_type": "code",
      "source": "#Q10. Explain the difference between covariance and correlation. How are these measures used in statistical analysis?\n#Answer:-Covariance is an indicator of the the extent to which 2 random variables are dependent on each other. A higher number denotes higher dependency,while\n#Correlative is a statistical measure that indicates how strongly two variables are related. The value of covariance lies in the range of -1 to 1\n",
      "metadata": {},
      "execution_count": null,
      "outputs": []
    },
    {
      "cell_type": "code",
      "source": "#Q11. What is the formula for calculating the sample mean? Provide an example calculation for a dataset.\n#Answer:- Formula divide (sum of terms) by (Number of terms).\nl1=[60,57,109,50]\nnp.mean(l1)",
      "metadata": {
        "trusted": true
      },
      "execution_count": 9,
      "outputs": [
        {
          "execution_count": 9,
          "output_type": "execute_result",
          "data": {
            "text/plain": "69.0"
          },
          "metadata": {}
        }
      ]
    },
    {
      "cell_type": "code",
      "source": "#Q12. For a normal distribution data what is the relationship between its measure of central tendency?\n#Answer:- All three measures of central tendency will give you the same answer so they can al be used.",
      "metadata": {},
      "execution_count": null,
      "outputs": []
    },
    {
      "cell_type": "code",
      "source": "#Q13. How is covariance different from correlation?\n#Answer:- Covariance indicates the direction of the linear relationship between variables while,\n# Correlation measures both the strength and direction of the linear relationship between two variables.\n",
      "metadata": {},
      "execution_count": null,
      "outputs": []
    },
    {
      "cell_type": "code",
      "source": "#Q14. How do outliers affect measures of central tendency and dispersion? Provide an example.\n#Answer:- Mean is the only measure of central tendency that is always affected by an outllier.\n",
      "metadata": {},
      "execution_count": null,
      "outputs": []
    },
    {
      "cell_type": "code",
      "source": "",
      "metadata": {},
      "execution_count": null,
      "outputs": []
    }
  ]
}