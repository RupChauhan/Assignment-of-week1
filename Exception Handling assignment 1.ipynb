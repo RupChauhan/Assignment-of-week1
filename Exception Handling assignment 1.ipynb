{
  "metadata": {
    "language_info": {
      "codemirror_mode": {
        "name": "python",
        "version": 3
      },
      "file_extension": ".py",
      "mimetype": "text/x-python",
      "name": "python",
      "nbconvert_exporter": "python",
      "pygments_lexer": "ipython3",
      "version": "3.8"
    },
    "kernelspec": {
      "name": "python",
      "display_name": "Python (Pyodide)",
      "language": "python"
    }
  },
  "nbformat_minor": 4,
  "nbformat": 4,
  "cells": [
    {
      "cell_type": "code",
      "source": "'''Q1.What is an Exception in python? Write the difference between Exception and Syntax errors.\nQ2. What happens when an exception is not handled? Explain with an Example.\nQ3. Which python statements are used to catch and handle exceptions? Explain with an example\nQ4. Explain with an example:\na. try and else\nb finally\nc. raise\nQ5. What are Custom Exceptions in Python? Why do we need custom Exceptions? Explain with an example.\nQ6.Create a custom exception class. Use this class to handle an exception.'''",
      "metadata": {},
      "execution_count": null,
      "outputs": []
    },
    {
      "cell_type": "code",
      "source": "#Q1.What is an Exception in python? Write the difference between Exception and Syntax errors.\n''' Answer:- An exception is an event, which occurs during the execution of a program that disrupts the noraml flow of the program's instruction.'''\n#Write the difference between Exception and Syntax errors\n#An exception occurs at runtime while Syntas errors occurs at compile time.\n",
      "metadata": {},
      "execution_count": null,
      "outputs": []
    },
    {
      "cell_type": "code",
      "source": "#Q2. What happens when an exception is not handled? Explain with an Example.\n#Answer:- If an exception is not handled, then system will be crash.\n#Example\na/0",
      "metadata": {
        "trusted": true
      },
      "execution_count": 1,
      "outputs": [
        {
          "ename": "<class 'NameError'>",
          "evalue": "name 'a' is not defined",
          "traceback": [
            "\u001b[0;31m---------------------------------------------------------------------------\u001b[0m",
            "\u001b[0;31mNameError\u001b[0m                                 Traceback (most recent call last)",
            "Cell \u001b[0;32mIn[1], line 4\u001b[0m\n\u001b[1;32m      1\u001b[0m \u001b[38;5;66;03m#Q2. What happens when an exception is not handled? Explain with an Example.\u001b[39;00m\n\u001b[1;32m      2\u001b[0m \u001b[38;5;66;03m#Answer:- If an exception is not handled, then system will be crash.\u001b[39;00m\n\u001b[1;32m      3\u001b[0m \u001b[38;5;66;03m#Example\u001b[39;00m\n\u001b[0;32m----> 4\u001b[0m \u001b[43ma\u001b[49m\u001b[38;5;241m/\u001b[39m\u001b[38;5;241m0\u001b[39m\n",
            "\u001b[0;31mNameError\u001b[0m: name 'a' is not defined"
          ],
          "output_type": "error"
        }
      ]
    },
    {
      "cell_type": "code",
      "source": "#Q3. Which python statements are used to catch and handle exceptions? Explain with an example\n#apnswer:- The try and except block in python is used to handle exception.\n#example:-\nry:\n    f=open(\"test.txt\",'r')\nexcept Exception as e:\n    print(\"This is except block.\",e)\n    print(a)",
      "metadata": {},
      "execution_count": null,
      "outputs": []
    },
    {
      "cell_type": "code",
      "source": "'''Q4. Explain with an example:\na. try and else\nb finally\nc. raise'''\n#Answer:-\n# a.. try and else:- The try block test a block of code for errors and The except block handle the error.\n#Example:-\n#b finally:- This is used to ensure that code within it will be always excetuted.\n#Example:-\n#c. raise:- This allows us to through an exception at any time.\n#Example:- ",
      "metadata": {},
      "execution_count": null,
      "outputs": []
    },
    {
      "cell_type": "code",
      "source": "#Q5. What are Custom Exceptions in Python? Why do we need custom Exceptions? Explain with an example.\n#Answer:- The custom exception hierarchy allows you to catch exceptions at multiple levels.\n#Example:-\nclass validateage (Exception):\n    \n    def __init__(self, msg):\n        self.msg =msg",
      "metadata": {
        "trusted": true
      },
      "execution_count": 5,
      "outputs": []
    },
    {
      "cell_type": "code",
      "source": "def validateage(age):\n    if age<0:\n        raise validateage(\"Enter age is negative.\")\n    elif age>200:\n        raise validateage(\"Entered age is very very hingh.\")\n    else:\n        print (\"age is valid\")",
      "metadata": {},
      "execution_count": null,
      "outputs": []
    },
    {
      "cell_type": "code",
      "source": "try:\n    age = int(input(\"enter your age:- \"))\n    validateage(age)\nexcept validateage as e:\n    print (e)",
      "metadata": {},
      "execution_count": null,
      "outputs": []
    },
    {
      "cell_type": "code",
      "source": "#Q6.Create a custom exception class. Use this class to handle an exception.\n#Answer:- \nclass validateage (Exception):\n    \n    def __init__(self, msg):\n        self.msg =msg",
      "metadata": {
        "trusted": true
      },
      "execution_count": 2,
      "outputs": []
    },
    {
      "cell_type": "code",
      "source": "def validateage(age):\n    if age<0:\n        raise validateage(\"Enter age is negative.\")\n    elif age>200:\n        raise validateage(\"Entered age is very very hingh.\")\n    else:\n        print (\"age is valid\")",
      "metadata": {
        "trusted": true
      },
      "execution_count": 4,
      "outputs": []
    },
    {
      "cell_type": "code",
      "source": "try:\n    age = int(input(\"enter your age:- \"))\n    validateage(age)\nexcept validateage as e:\n    print (e)",
      "metadata": {},
      "execution_count": null,
      "outputs": []
    }
  ]
}