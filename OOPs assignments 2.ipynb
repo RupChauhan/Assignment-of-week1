{
  "metadata": {
    "language_info": {
      "codemirror_mode": {
        "name": "python",
        "version": 3
      },
      "file_extension": ".py",
      "mimetype": "text/x-python",
      "name": "python",
      "nbconvert_exporter": "python",
      "pygments_lexer": "ipython3",
      "version": "3.8"
    },
    "kernelspec": {
      "name": "python",
      "display_name": "Python (Pyodide)",
      "language": "python"
    }
  },
  "nbformat_minor": 4,
  "nbformat": 4,
  "cells": [
    {
      "cell_type": "code",
      "source": "Q''''1. What is Abstraction in OOps? Explain with an example.\nQ2. Differentiate between Abstraction and Encapsulation. Explain with an example.\nQ3. What is abc module in python? Why is it used?\nQ4. How can we achieve data abstraction?\nQ5. Can we create an instance of an abstract class? Explain your answer.'''",
      "metadata": {},
      "execution_count": null,
      "outputs": []
    },
    {
      "cell_type": "code",
      "source": "#1. What is Abstraction in OOps? Explain with an example.\n#Answer:- Absraction is the process of hiding the internal details of an application from outer world.\n#Example:-\nimport abc\nclass pwskills:\n    \n    @abc.abstractmethod\n    def student_details(self):\n        pass\n    \n    @abc.abstractmethod\n    def student_assignment(self):\n        pass\n    \n    @abc.abstractmethod\n    def student_marks(self):\n        pass\n    ",
      "metadata": {
        "trusted": true
      },
      "execution_count": 1,
      "outputs": []
    },
    {
      "cell_type": "code",
      "source": "#Q2. Differentiate between Abstraction and Encapsulation. Explain with an example.\n'''Answer:-Absraction is the process of hiding the internal details of an application from outer world while\nEncapsulation is hiding the data and controlling the visibility of code.'''\n#Example of Abstraction \nimport abc\nclass pwskills:\n    \n    @abc.abstractmethod\n    def student_details(self):\n        pass\n    \n    @abc.abstractmethod\n    def student_assignment(self):\n        pass\n    \n    @abc.abstractmethod\n    def student_marks(self):\n        pass\n    \nclass student_details(pwskills):\n    \n    def student_details(self):\n        return \"This is the method for taking students details.\"\n    \n    def student_assignment(self):\n        return \"This is a method of assing details for a particular student \"\n    \nclass data_science_master(pwskills):\n    \n    def student_details(self):\n        return \"This will return a student details for data science master.\"\n    \n    def student_assignment(self):\n        return \"This will give you a student assignment details for data science masters.\"\n    ",
      "metadata": {
        "trusted": true
      },
      "execution_count": 4,
      "outputs": []
    },
    {
      "cell_type": "code",
      "source": "dsm=data_science_master()\ndsm.student_details()",
      "metadata": {
        "trusted": true
      },
      "execution_count": 5,
      "outputs": [
        {
          "execution_count": 5,
          "output_type": "execute_result",
          "data": {
            "text/plain": "'This will return a student details for data science master.'"
          },
          "metadata": {}
        }
      ]
    },
    {
      "cell_type": "code",
      "source": "sd=student_details()\nsd.student_details()",
      "metadata": {
        "trusted": true
      },
      "execution_count": 6,
      "outputs": [
        {
          "execution_count": 6,
          "output_type": "execute_result",
          "data": {
            "text/plain": "'This is the method for taking students details.'"
          },
          "metadata": {}
        }
      ]
    },
    {
      "cell_type": "code",
      "source": "#Example of Encapsulation\nclass car:\n    \n    def __init__(self ,year ,make ,model ,speed):\n        self.__year=year\n        self.__make=make\n        self.__model=model\n        self.__speed=speed",
      "metadata": {
        "trusted": true
      },
      "execution_count": 7,
      "outputs": []
    },
    {
      "cell_type": "code",
      "source": "c=car(2021,\"toyata\",\"innova\",12)",
      "metadata": {
        "trusted": true
      },
      "execution_count": 8,
      "outputs": []
    },
    {
      "cell_type": "code",
      "source": "c._car__year",
      "metadata": {
        "trusted": true
      },
      "execution_count": 9,
      "outputs": [
        {
          "execution_count": 9,
          "output_type": "execute_result",
          "data": {
            "text/plain": "2021"
          },
          "metadata": {}
        }
      ]
    },
    {
      "cell_type": "code",
      "source": "#Q3. What is abc module in python? Why is it used?\n'''Answer:- It provies the infrastructure of defining custom abstract base classes.'''",
      "metadata": {},
      "execution_count": null,
      "outputs": []
    },
    {
      "cell_type": "code",
      "source": "",
      "metadata": {},
      "execution_count": null,
      "outputs": []
    },
    {
      "cell_type": "code",
      "source": "#Q4. How can we achieve data abstraction?\n'''Answer:- we csn achieve data abstraction through creating abstract class and inheriting them leter.'''",
      "metadata": {},
      "execution_count": null,
      "outputs": []
    },
    {
      "cell_type": "code",
      "source": "#Q5. Can we create an instance of an abstract class? Explain your answer.\n'''Answer:-We can not create an instance or object on an abstract class. '''",
      "metadata": {},
      "execution_count": null,
      "outputs": []
    }
  ]
}