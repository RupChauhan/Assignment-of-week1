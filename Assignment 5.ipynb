{
  "metadata": {
    "language_info": {
      "codemirror_mode": {
        "name": "python",
        "version": 3
      },
      "file_extension": ".py",
      "mimetype": "text/x-python",
      "name": "python",
      "nbconvert_exporter": "python",
      "pygments_lexer": "ipython3",
      "version": "3.8"
    },
    "kernelspec": {
      "name": "python",
      "display_name": "Python (Pyodide)",
      "language": "python"
    }
  },
  "nbformat_minor": 4,
  "nbformat": 4,
  "cells": [
    {
      "cell_type": "code",
      "source": "'''Q1, Create a vehicle class with an init method having instance variables as name_of_vehicle, max_speed\nand average_of_vehicle.\nQ2. Create a child class car from the vehicle class created in Que 1, which will inherit the vehicle class.\nCreate a method named seating_capacity which takes capacity as an argument and returns the name of\nthe vehicle and its seating capacity.\nQ3. What is multiple inheritance? Write a python code to demonstrate multiple inheritance.\nQ4. What are getter and setter in python? Create a class and create a getter and a setter method in this\nclass.\nQ5.What is method overriding in python? Write a python code to demonstrate method overriding'''",
      "metadata": {},
      "execution_count": null,
      "outputs": []
    },
    {
      "cell_type": "code",
      "source": "'''Q1, Create a vehicle class with an init method having instance variables as name_of_vehicle, max_speed\nand average_of_vehicle.'''\nclass vehicle:\n  def __init__(self, name_of_vehicle, max_speed,average_of_vehicle):\n    self.name_of_vehicle = name_of_vehicle\n    self.max_speed = max_speed\n    self.average_of_vehicle=average_of_vehicle\n\n  def Car_details(self):\n    print(self.name_of_vehicle, self.max_speed,self.average_of_vehicle)\n\nx = vehicle(\"Range Rover\", 120,90)\nx.Car_details()\n",
      "metadata": {
        "trusted": true
      },
      "execution_count": 27,
      "outputs": [
        {
          "name": "stdout",
          "text": "Range Rover 120 90\n",
          "output_type": "stream"
        }
      ]
    },
    {
      "cell_type": "code",
      "source": "'''Q2. Create a child class car from the vehicle class created in Que 1, which will inherit the vehicle class.\nCreate a method named seating_capacity which takes capacity as an argument and returns the name of\nthe vehicle and its seating capacity.'''\nclass vehicle:\n  def __init__(self, name_of_vehicle, max_speed,average_of_vehicle):\n    self.name_of_vehicle = name_of_vehicle\n    self.max_speed = max_speed\n    self.average_of_vehicle=average_of_vehicle\nclass car(vehicle):\n    def seating_capacity(self,cap):\n        return \"The seating capacity of a {self.name_of_vehicle} is {cap}\"\n\n  ",
      "metadata": {
        "trusted": true
      },
      "execution_count": 33,
      "outputs": []
    },
    {
      "cell_type": "code",
      "source": "'''Q3. What is multiple inheritance? Write a python code to demonstrate multiple inheritance.'''\n#Answer:- If a child class inherits from more than one class, this is known as multiple classes.\n#Write a python code to demonstrate multiple inheritance.'''\n\nclass A:\n    def A(self):\n        print(\"hi\")\nclass B:\n    def B(self):\n        print(\"Hello\")\nclass C(A,B):\n    def C(self):\n        print (\"Ibherit both class\")\n        \no=C()\no.A()\no.B()\no.C()",
      "metadata": {
        "trusted": true
      },
      "execution_count": 6,
      "outputs": [
        {
          "name": "stdout",
          "text": "hi\nHello\nIbherit both class\n",
          "output_type": "stream"
        }
      ]
    },
    {
      "cell_type": "code",
      "source": "'''Q4. What are getter and setter in python? Create a class and create a getter and a setter method in this\nclass.'''\n#Answer:- Getter is a method that allows you to access an attribute in a given class\n# while Setter method that allows you to set or mutate the value of an attribute in a class.\nclass Person:\n    name=\"Rupesh\"\n    age=30\n    country=\"India\"\nsetattr(Person,'age',25)\nx=getattr(Person, 'age')\n\nprint(x)",
      "metadata": {
        "trusted": true
      },
      "execution_count": 23,
      "outputs": [
        {
          "name": "stdout",
          "text": "25\n",
          "output_type": "stream"
        }
      ]
    },
    {
      "cell_type": "code",
      "source": "'''Q5.What is method overriding in python? Write a python code to demonstrate method overriding'''\n# Answer: with the help of method overriding in python, we can creates two methods with the same name but differ in the programming logic/ function.\nclass rup:\n    def action(self):\n        print(\"Hello Rupesh\")\nclass dearrup(rup):\n    def action(self):\n        print(\"How are you my dear rupesh?\")\n\nr=dearrup()\nr.action()",
      "metadata": {
        "trusted": true
      },
      "execution_count": 25,
      "outputs": [
        {
          "name": "stdout",
          "text": "How are you my dear rupesh?\n",
          "output_type": "stream"
        }
      ]
    },
    {
      "cell_type": "code",
      "source": "",
      "metadata": {},
      "execution_count": null,
      "outputs": []
    }
  ]
}