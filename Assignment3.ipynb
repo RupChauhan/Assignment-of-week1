{
  "metadata": {
    "language_info": {
      "codemirror_mode": {
        "name": "python",
        "version": 3
      },
      "file_extension": ".py",
      "mimetype": "text/x-python",
      "name": "python",
      "nbconvert_exporter": "python",
      "pygments_lexer": "ipython3",
      "version": "3.8"
    },
    "kernelspec": {
      "name": "python",
      "display_name": "Python (Pyodide)",
      "language": "python"
    }
  },
  "nbformat_minor": 4,
  "nbformat": 4,
  "cells": [
    {
      "cell_type": "code",
      "source": "Q1. Which keyword is used to create a function? Create a function to return a list of odd numbers in the range of 1 to 25.\nQ2. Why *args and ** kwargs is used in some funtions? Create a function each for *args and **kwargs to demostrate their use.\nQ3. What is an iterator in python? Name the method used to initialise the iterator object and the method\nused for iteration. Use these methods to print the first five elements of the given list [2,4,6,8,10,12, 14,16, 18,20].\n\nQ4. What is a generator function in python? Why yield keyword is used? Give an example of a generator function.\n\nQ5. Create a generator function for prime numbers less than 1000. Use the next() method to print the first 20 prime numbers.\n\nQ6. Write a python program to print the first 10 Fibonacci numbers using a while loop.\n\nQ7. Write a List Comprehension to iterate through the given string: ‘pwskills’.\n\nExpected output: ['p', 'w', 's', 'k', 'i', 'l', 'l', 's']\nQ8. Write a python program to check whether a given number is Palindrome or not using a while loop.\nQ9. Write a code to print odd numbers from 1 to 100 using list comprehension.\n",
      "metadata": {},
      "execution_count": null,
      "outputs": []
    },
    {
      "cell_type": "code",
      "source": "#Q1. Which keyword is used to create a function? Create a function to return a list of odd numbers in the range of 1 to 25.\n#Answer:- def keyword is used to create a function\ndef odd():\n    for i in range(1,26):\n        if i%2!=0:\n            print (i)\n",
      "metadata": {
        "trusted": true
      },
      "execution_count": 1,
      "outputs": []
    },
    {
      "cell_type": "code",
      "source": "#Q2. Why *args and ** kwargs is used in some funtions? Create a function each for *args and **kwargs to demostrate their use.\n#Answer:-# *args : This is non-keyword Arguments. The type of this function is tutple.\n        # **kwargs: This is keyword Agruments.The type of the this function is dict.\ndef without_args(*args):\n    return args\ntype(without_args())\n",
      "metadata": {
        "trusted": true
      },
      "execution_count": 14,
      "outputs": [
        {
          "execution_count": 14,
          "output_type": "execute_result",
          "data": {
            "text/plain": "tuple"
          },
          "metadata": {}
        }
      ]
    },
    {
      "cell_type": "code",
      "source": "#Q.2. Exmple\ndef with_args(**kwargs):\n    return kwargs\ntype(with_args())",
      "metadata": {
        "trusted": true
      },
      "execution_count": 15,
      "outputs": [
        {
          "execution_count": 15,
          "output_type": "execute_result",
          "data": {
            "text/plain": "dict"
          },
          "metadata": {}
        }
      ]
    },
    {
      "cell_type": "code",
      "source": "#Q3. What is an iterator in python? Name the method used to initialise the iterator object and the method \n#used for iteration. Use these methods to print the first five elements of the given list [2,4,6,8,10,12, 14,16, 18,20].\n#Answer:- An iterator is an object that contains a countable number of elements that can be iterated upon.\n#iter() method is used to initiialize.\nl=[2,4,6,8,10,12,14,16,18,20]\nl1=iter(l)",
      "metadata": {
        "trusted": true
      },
      "execution_count": 1,
      "outputs": []
    },
    {
      "cell_type": "code",
      "source": "type(l1)",
      "metadata": {
        "trusted": true
      },
      "execution_count": 2,
      "outputs": [
        {
          "execution_count": 2,
          "output_type": "execute_result",
          "data": {
            "text/plain": "list_iterator"
          },
          "metadata": {}
        }
      ]
    },
    {
      "cell_type": "code",
      "source": "next(l1)",
      "metadata": {
        "trusted": true
      },
      "execution_count": 4,
      "outputs": [
        {
          "execution_count": 4,
          "output_type": "execute_result",
          "data": {
            "text/plain": "2"
          },
          "metadata": {}
        }
      ]
    },
    {
      "cell_type": "code",
      "source": "next(l1)",
      "metadata": {
        "trusted": true
      },
      "execution_count": 5,
      "outputs": [
        {
          "execution_count": 5,
          "output_type": "execute_result",
          "data": {
            "text/plain": "4"
          },
          "metadata": {}
        }
      ]
    },
    {
      "cell_type": "code",
      "source": "next(l1)",
      "metadata": {
        "trusted": true
      },
      "execution_count": 6,
      "outputs": [
        {
          "execution_count": 6,
          "output_type": "execute_result",
          "data": {
            "text/plain": "6"
          },
          "metadata": {}
        }
      ]
    },
    {
      "cell_type": "code",
      "source": "next(l1)",
      "metadata": {
        "trusted": true
      },
      "execution_count": 7,
      "outputs": [
        {
          "execution_count": 7,
          "output_type": "execute_result",
          "data": {
            "text/plain": "8"
          },
          "metadata": {}
        }
      ]
    },
    {
      "cell_type": "code",
      "source": "next(l1)",
      "metadata": {
        "trusted": true
      },
      "execution_count": 8,
      "outputs": [
        {
          "execution_count": 8,
          "output_type": "execute_result",
          "data": {
            "text/plain": "10"
          },
          "metadata": {}
        }
      ]
    },
    {
      "cell_type": "code",
      "source": "#Q4. What is a generator function in python? Why yield keyword is used? Give an example of a generator function.\n'''Answer:- Python generator function is a type of function which return an iterator objects with values.\nyield keyword is used to create a generator function.'''\ndef test_fib(n):\n    a,b=0,1\n    for i in range(n):\n        yield a\n        a,b=b,a+b",
      "metadata": {
        "trusted": true
      },
      "execution_count": 9,
      "outputs": []
    },
    {
      "cell_type": "code",
      "source": "for i in test_fib(9):\n    print(i)",
      "metadata": {
        "trusted": true
      },
      "execution_count": 10,
      "outputs": [
        {
          "name": "stdout",
          "text": "0\n1\n1\n2\n3\n5\n8\n13\n21\n",
          "output_type": "stream"
        }
      ]
    },
    {
      "cell_type": "code",
      "source": "#Q5. Create a generator function for prime numbers less than 1000. Use the next() method to print the first 20 prime numbers.\nfor i in range(1,1001):\n    if i%2!=0:\n        print(i,sep=' ',end=' ')",
      "metadata": {},
      "execution_count": null,
      "outputs": []
    },
    {
      "cell_type": "code",
      "source": "#Q6. Write a python program to print the first 10 Fibonacci numbers using a while loop.\na=0\nb=1\nwhile a<10:\n    print(b)\n    a,b=b,a+b",
      "metadata": {
        "trusted": true
      },
      "execution_count": 28,
      "outputs": [
        {
          "name": "stdout",
          "text": "1\n1\n2\n3\n5\n8\n13\n",
          "output_type": "stream"
        }
      ]
    },
    {
      "cell_type": "code",
      "source": "#Q7. Write a List Comprehension to iterate through the given string: ‘pwskills’.\n#Expected output: ['p', 'w', 's', 'k', 'i', 'l', 'l', 's']\ns=\"pwskills\"\nfor i in s:\n    print (i)",
      "metadata": {
        "trusted": true
      },
      "execution_count": 13,
      "outputs": [
        {
          "name": "stdout",
          "text": "p\nw\ns\nk\ni\nl\nl\ns\n",
          "output_type": "stream"
        }
      ]
    },
    {
      "cell_type": "code",
      "source": "s1=iter(s)",
      "metadata": {
        "trusted": true
      },
      "execution_count": 14,
      "outputs": []
    },
    {
      "cell_type": "code",
      "source": "next(s1)",
      "metadata": {
        "trusted": true
      },
      "execution_count": 15,
      "outputs": [
        {
          "execution_count": 15,
          "output_type": "execute_result",
          "data": {
            "text/plain": "'p'"
          },
          "metadata": {}
        }
      ]
    },
    {
      "cell_type": "code",
      "source": "next(s1)",
      "metadata": {
        "trusted": true
      },
      "execution_count": 16,
      "outputs": [
        {
          "execution_count": 16,
          "output_type": "execute_result",
          "data": {
            "text/plain": "'w'"
          },
          "metadata": {}
        }
      ]
    },
    {
      "cell_type": "code",
      "source": "next(s1)",
      "metadata": {
        "trusted": true
      },
      "execution_count": 17,
      "outputs": [
        {
          "execution_count": 17,
          "output_type": "execute_result",
          "data": {
            "text/plain": "'s'"
          },
          "metadata": {}
        }
      ]
    },
    {
      "cell_type": "code",
      "source": "next(s1)",
      "metadata": {
        "trusted": true
      },
      "execution_count": 18,
      "outputs": [
        {
          "execution_count": 18,
          "output_type": "execute_result",
          "data": {
            "text/plain": "'k'"
          },
          "metadata": {}
        }
      ]
    },
    {
      "cell_type": "code",
      "source": "next(s1)",
      "metadata": {
        "trusted": true
      },
      "execution_count": 19,
      "outputs": [
        {
          "execution_count": 19,
          "output_type": "execute_result",
          "data": {
            "text/plain": "'i'"
          },
          "metadata": {}
        }
      ]
    },
    {
      "cell_type": "code",
      "source": "next(s1)",
      "metadata": {
        "trusted": true
      },
      "execution_count": 20,
      "outputs": [
        {
          "execution_count": 20,
          "output_type": "execute_result",
          "data": {
            "text/plain": "'l'"
          },
          "metadata": {}
        }
      ]
    },
    {
      "cell_type": "code",
      "source": "next(s1)",
      "metadata": {
        "trusted": true
      },
      "execution_count": 21,
      "outputs": [
        {
          "execution_count": 21,
          "output_type": "execute_result",
          "data": {
            "text/plain": "'l'"
          },
          "metadata": {}
        }
      ]
    },
    {
      "cell_type": "code",
      "source": "next(s1)",
      "metadata": {
        "trusted": true
      },
      "execution_count": 22,
      "outputs": [
        {
          "execution_count": 22,
          "output_type": "execute_result",
          "data": {
            "text/plain": "'s'"
          },
          "metadata": {}
        }
      ]
    },
    {
      "cell_type": "code",
      "source": "#Q8. Write a python program to check whether a given number is Palindrome or not using a while loop.\n'''s='look'\ns1=s[::-1]\nif s==s1:\n    print(\"Palindrome\")\nelse:\n    print(\"Not palindrome\")'''\nnum=121\nt=num\nrev=0\nwhile(num>0):\n    d=num%10\n    rev=rev*10+d\n    num=num//10\nif(t==rev):\n    print(\"Palinfrome\")\nelse:\n    print(\"Not Palindrome\")",
      "metadata": {
        "trusted": true
      },
      "execution_count": 32,
      "outputs": [
        {
          "name": "stdout",
          "text": "Palinfrome\n",
          "output_type": "stream"
        }
      ]
    },
    {
      "cell_type": "code",
      "source": "#Q9. Write a code to print odd numbers from 1 to 100 using list comprehension.\nl=[]\nfor i in range(1,100):\n    if i%2==0:\n        l.append(i)\nprint (l)",
      "metadata": {
        "trusted": true
      },
      "execution_count": 31,
      "outputs": [
        {
          "name": "stdout",
          "text": "[2, 4, 6, 8, 10, 12, 14, 16, 18, 20, 22, 24, 26, 28, 30, 32, 34, 36, 38, 40, 42, 44, 46, 48, 50, 52, 54, 56, 58, 60, 62, 64, 66, 68, 70, 72, 74, 76, 78, 80, 82, 84, 86, 88, 90, 92, 94, 96, 98]\n",
          "output_type": "stream"
        }
      ]
    },
    {
      "cell_type": "code",
      "source": "",
      "metadata": {},
      "execution_count": null,
      "outputs": []
    }
  ]
}