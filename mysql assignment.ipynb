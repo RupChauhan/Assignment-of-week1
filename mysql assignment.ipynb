{
  "metadata": {
    "language_info": {
      "codemirror_mode": {
        "name": "python",
        "version": 3
      },
      "file_extension": ".py",
      "mimetype": "text/x-python",
      "name": "python",
      "nbconvert_exporter": "python",
      "pygments_lexer": "ipython3",
      "version": "3.8"
    },
    "kernelspec": {
      "name": "python",
      "display_name": "Python (Pyodide)",
      "language": "python"
    }
  },
  "nbformat_minor": 4,
  "nbformat": 4,
  "cells": [
    {
      "cell_type": "code",
      "source": "'''Q1. What is a database? Differentiate between SQL and NoSQL databases.\nQ2. What is DDL? Explain why CREATE, DROP, ALTER, and TRUNCATE are used with an example.\nQ3. What is DML? Explain INSERT, UPDATE, and DELETE with an example.\nQ4. What is DQL? Explain SELECT with an example.\nQ5. Explain Primary Key and Foreign Key.\nQ6. Write a python code to connect MySQL to python. Explain the cursor() and execute() method.\nQ7. Give the order of execution of SQL clauses in an SQL query.'''",
      "metadata": {
        "trusted": true
      },
      "execution_count": 1,
      "outputs": [
        {
          "execution_count": 1,
          "output_type": "execute_result",
          "data": {
            "text/plain": "'Q1. What is a database? Differentiate between SQL and NoSQL databases.\\nQ2. What is DDL? Explain why CREATE, DROP, ALTER, and TRUNCATE are used with an example.\\nQ3. What is DML? Explain INSERT, UPDATE, and DELETE with an example.\\nQ4. What is DQL? Explain SELECT with an example.\\nQ5. Explain Primary Key and Foreign Key.\\nQ6. Write a python code to connect MySQL to python. Explain the cursor() and execute() method.\\nQ7. Give the order of execution of SQL clauses in an SQL query.'"
          },
          "metadata": {}
        }
      ]
    },
    {
      "cell_type": "code",
      "source": "#Q1. What is a database? Differentiate between SQL and NoSQL databases.\n'''answer:- A database is an organized collection of data and information.\nThe differentiate between SQL and NoSQL databases is ... \nSQL database are vertically scalable,while NoSQL database are horizzontgally scable.\n'''",
      "metadata": {},
      "execution_count": null,
      "outputs": []
    },
    {
      "cell_type": "code",
      "source": "#Q2. What is DDL? Explain why CREATE, DROP, ALTER, and TRUNCATE are used with an example.\n'''Answer:- \nDDL stands for Data Definition Language is a computer used to create and modify the structure of database in a database.\nCREATE:- To create a new SQL database, and table.\nExample:-\nCREATE TABLE test(c1 int, c2 varchar(25));\n\nDROP:- To delete an existing SQL database.\nExample:- \nDROP TABLE test;\n\nALTER:- To make changes to a table, view the entire database.\nExample:- \nALTER TABLE test\nAdd c6 varchar(22);\n\nTRUNCATE:- To removes all rows from a table,but the table sturcture and its columns, constrains, indexes, and so on remain.\nExample:- \nTRUNCATE TABLE test;\n''' ",
      "metadata": {},
      "execution_count": null,
      "outputs": []
    },
    {
      "cell_type": "code",
      "source": "#Q3. What is DML? Explain INSERT, UPDATE, and DELETE with an example.\n'''Answer:-\nDML stands for Data Manipulation Language.With the help of it we can change in the database.\nINSERT:- This command is used to insert values in table.\nExmple:-\nINSERT INTO test(123,'Rupesh')\n\nUPDATE:- This command is used to update the value in the table.\nExample:-\nUPDATE test \nSET c1=121\nWHERE C1=123\n\nDELETE:- This command is used to delete the values in the table.\nExample:-\nDELETE FROM test WHERE C1=121;\n'''",
      "metadata": {},
      "execution_count": null,
      "outputs": []
    },
    {
      "cell_type": "code",
      "source": "#Q4. What is DQL? Explain SELECT with an example.\n'''Answer:-\nDQL stands for Data Query Language which is a portion of SQL statement that allows you to get and organise data from a database.\nSELECT * FROM test;\n'''",
      "metadata": {},
      "execution_count": null,
      "outputs": []
    },
    {
      "cell_type": "code",
      "source": "#Q5. Explain Primary Key and Foreign Key.\n'''Answer:-\nThe Primary Key is a single or a group of fields or columns that can uniquely identify a row in a table.\nForeign Key is used to create a way of cross-referencing the two tables.\n'''",
      "metadata": {},
      "execution_count": null,
      "outputs": []
    },
    {
      "cell_type": "code",
      "source": "#Q6. Write a python code to connect MySQL to python. Explain the cursor() and execute() method.\n'''Answer:-\nimport mysql.connector\n# import mysql.connector\n#create user 'user'@'%' identified by 'password'\nmydb = mysql.connector.connect(\n  host=\"localhost\",\n  user=\"abc\",\n  password=\"password\"\n)\nprint(mydb)\nmycursor = mydb.cursor()\nmycursor.execute(\"SHOW DATABASES\")\nfor x in mycursor:\n  print(x)\n  \ncursor():- To make it possible to define a result set and perform complex logic on a row by row basis.\n\n\nexecute():- To run an SQL statement.\n\n'''",
      "metadata": {},
      "execution_count": null,
      "outputs": []
    },
    {
      "cell_type": "code",
      "source": "#Q7. Give the order of execution of SQL clauses in an SQL query.\n''' Answer:-\nThe order of execution of SQL clauses in an SQL query.\nFROM/JOIN, WHERE, GROUP BY, HAVING, SELECT, ORDER BY, LIMIT/ OFFSET\n'''",
      "metadata": {},
      "execution_count": null,
      "outputs": []
    }
  ]
}