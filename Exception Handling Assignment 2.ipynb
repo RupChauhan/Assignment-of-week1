{
  "metadata": {
    "language_info": {
      "codemirror_mode": {
        "name": "python",
        "version": 3
      },
      "file_extension": ".py",
      "mimetype": "text/x-python",
      "name": "python",
      "nbconvert_exporter": "python",
      "pygments_lexer": "ipython3",
      "version": "3.8"
    },
    "kernelspec": {
      "name": "python",
      "display_name": "Python (Pyodide)",
      "language": "python"
    }
  },
  "nbformat_minor": 4,
  "nbformat": 4,
  "cells": [
    {
      "cell_type": "code",
      "source": "'''Q1. Explain why we have to use the Exception class while creating a Custom Exception.\nNote: Here Exception class refers to the base class for all the exceptions.\nQ2. Write a python program to print Python Exception Hierarchy.\nQ3. What errors are defined in the ArithmeticError class? Explain any two with an example.\nQ4. Why LookupError class is used? Explain with an example KeyError and IndexError.\nQ5. Explain ImportError. What is ModuleNotFoundError?\nQ6. List down some best practices for exception handling in python.'''",
      "metadata": {},
      "execution_count": null,
      "outputs": []
    },
    {
      "cell_type": "code",
      "source": "'''Q1. Explain why we have to use the Exception class while creating a Custom Exception.\nNote: Here Exception class refers to the base class for all the exceptions.'''\n#Answer:- 1. To improve readability",
      "metadata": {},
      "execution_count": null,
      "outputs": []
    },
    {
      "cell_type": "code",
      "source": "#Q2. Write a python program to print Python Exception Hierarchy.\ntry:\n    with open(\"test51.txt\",'r') as f:\n        test=f.read()\nexcept Exception as e:\n    print(e)\nexcept FileNotFoundError as e:\n    \n    print(\"test\",e)",
      "metadata": {
        "trusted": true
      },
      "execution_count": 9,
      "outputs": [
        {
          "name": "stdout",
          "text": "[Errno 44] No such file or directory: 'test51.txt'\n",
          "output_type": "stream"
        }
      ]
    },
    {
      "cell_type": "code",
      "source": "#Q3. What errors are defined in the ArithmeticError class? Explain any two with an example.\n'''Answer:- ArithmeticError is thrown when an error occurs while performing mathematical operation.\nZeroDivisionError, OverflowError,FloatingPointError'''\n#ZeroDivisionError\ntry:\n    a=10/0\nexcept ZeroDivisionError as e:\n    print(e)\n    \n#OverFlowError\nj=5.0\n\ntry:\n    for i in range(1,1000):\n        j=j**i\nexcept ArithmeticError as e:\n    print(f\"{e},{e.__class__}\")",
      "metadata": {
        "trusted": true
      },
      "execution_count": 8,
      "outputs": [
        {
          "name": "stdout",
          "text": "division by zero\n(68, 'Result not representable'),<class 'OverflowError'>\n",
          "output_type": "stream"
        }
      ]
    },
    {
      "cell_type": "code",
      "source": "#Q4. Why LookupError class is used? Explain with an example KeyError and IndexError.\n#Answer:-LookupError:- It the the base class for errors raised when something can't be found.\n#Example of KeyError\ntry:\n    d={\"key\":\"sudh\",1:[1,2,4,5]}\n    print(d[\"key2\"])\nexcept KeyError as e:\n    print (e)\n\n    \n#Example of IndexError\ntry:\n    l=[1,2,3,4]\n    print (l[6])\nexcept IndexError as e:\n    print (e)",
      "metadata": {
        "trusted": true
      },
      "execution_count": 6,
      "outputs": [
        {
          "name": "stdout",
          "text": "'key2'\nlist index out of range\n",
          "output_type": "stream"
        }
      ]
    },
    {
      "cell_type": "code",
      "source": "#Q5. Explain ImportError. What is ModuleNotFoundError?\n#Answer:- ImportError occurs when the python prgran tries to import module which does not exit iin the private table.\n#ModuleNotFoundError:- It is a syntax error that appears when the static import statement cannot find the file at the declared path.",
      "metadata": {},
      "execution_count": null,
      "outputs": []
    },
    {
      "cell_type": "code",
      "source": "#Q6. List down some best practices for exception handling in python.\n#Answer:-\n#use always specific exception\ntry:\n    a=50/0\nexcept Exception as e:\n    print(e)\n    \n    \n#print always a proper message\ntry:\n    10/0\nexcept ZeroDivisionError as e:\n    print(\"I am trying to handle a zerodivisionerror\",e)\n    \n    \n    \n    \n#always try to log your error\nimport logging\nlogging.basicConfig(filename=\"error.log\",level=logging.ERROR)\ntry:\n    10/0\nexcept ZeroDivisionError as e:\n    logging.error(\"I am trying to handle a zerodivisionerror\".format(e))\n\n#always avoid to write a multiple exception handling\nimport logging\nlogging.basicConfig(filename=\"error.log\",level=logging.ERROR)\ntry:\n    10/0\nexcept FileNotFoundError as e:\n    logging.error(\"I am handling file not found{}\".formmat(e))\nexcept AttributeError as e:\n    logging.error(\"I am handling Attribute error{}\".format(e))\nexcept ZeroDivisionError as e:\n    logging.error(\"I am trying to handle a zerodivisionerror\".format(e))\nlogging.shutdown() \n\n#Always do documentation.\n#cleanup all the resources\ntry:\n    with open(\"test.txt\",'w') as f:\n        f.write(\"this is my data to file.\")\nexcept FileNotFoundError as e:\n    logging.error(\"I am handling file not found error{}\".format(e))\nfinally:\n    f.close()",
      "metadata": {
        "trusted": true
      },
      "execution_count": 4,
      "outputs": [
        {
          "name": "stdout",
          "text": "division by zero\nI am trying to handle a zerodivisionerror division by zero\n",
          "output_type": "stream"
        }
      ]
    },
    {
      "cell_type": "code",
      "source": "",
      "metadata": {},
      "execution_count": null,
      "outputs": []
    }
  ]
}