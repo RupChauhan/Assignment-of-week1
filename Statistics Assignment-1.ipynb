{
  "metadata": {
    "language_info": {
      "codemirror_mode": {
        "name": "python",
        "version": 3
      },
      "file_extension": ".py",
      "mimetype": "text/x-python",
      "name": "python",
      "nbconvert_exporter": "python",
      "pygments_lexer": "ipython3",
      "version": "3.8"
    },
    "kernelspec": {
      "name": "python",
      "display_name": "Python (Pyodide)",
      "language": "python"
    }
  },
  "nbformat_minor": 4,
  "nbformat": 4,
  "cells": [
    {
      "cell_type": "code",
      "source": "'''Q1. What is Statistics?\nQ2. Define the different types of statistics and give an example of when each type might be used.\nQ3. What are the different types of data and how do they differ from each other? Provide an example of\neach type of data.\nQ4. Categorise the following datasets with respect to quantitative and qualitative data types:\n(i) Grading in exam: A+, A, B+, B, C+, C, D, E\n(ii) Colour of mangoes: yellow, green, orange, red\n(iii) Height data of a class: [178.9, 179, 179.5, 176, 177.2, 178.3, 175.8,...]\n(iv) Number of mangoes exported by a farm: [500, 600, 478, 672, ...]\nQ5. Explain the concept of levels of measurement and give an example of a variable for each level.\nQ6. Why is it important to understand the level of measurement when analyzing data? Provide an\nexample to illustrate your answer.\nQ7. How nominal data type is different from ordinal data type.\nQ8. Which type of plot can be used to display data in terms of range?\nQ9. Describe the difference between descriptive and inferential statistics. Give an example of each\ntype of statistics and explain how they are used.\nQ10. What are some common measures of central tendency and variability used in statistics? Explain\nhow each measure can be used to describe a dataset.'''",
      "metadata": {},
      "execution_count": null,
      "outputs": []
    },
    {
      "cell_type": "code",
      "source": "#Q1. What is Statistics?\n# Answer:- statistic is the science of collecting, organizing and analyzing of data.\n",
      "metadata": {},
      "execution_count": null,
      "outputs": []
    },
    {
      "cell_type": "code",
      "source": "#Q2. Define the different types of statistics and give an example of when each type might be used.\n#Answer:-There are two type of statistic.\n# Descriptive statistics:- It consists of organizing and summarizing of data.\n#Example:- Measure of central Tendency, Measure of disperson\n\n# Infencential statistics:- It consists of using data you have measured to form conclusion.\n# z-test, t-test",
      "metadata": {},
      "execution_count": null,
      "outputs": []
    },
    {
      "cell_type": "code",
      "source": "'''Q3. What are the different types of data and how do they differ from each other? Provide an example of\neach type of data.'''\n#answer:- Data is facts or picess of information.\n# There are two types of Data.\n# Quentitative:- It shows numberical data. like 100%, 45.23,123\n# Quaitative:- It is about the behavioural attributes of person or things. Like male or female, Pincode",
      "metadata": {},
      "execution_count": null,
      "outputs": []
    },
    {
      "cell_type": "code",
      "source": "'''Q4. Categorise the following datasets with respect to quantitative and qualitative data types:\n(i) Grading in exam: A+, A, B+, B, C+, C, D, E\n(ii) Colour of mangoes: yellow, green, orange, red\n(iii) Height data of a class: [178.9, 179, 179.5, 176, 177.2, 178.3, 175.8,...]\n(iv) Number of mangoes exported by a farm: [500, 600, 478, 672, ...]'''\n#Answer:-(i) Grading in exam: A+, A, B+, B, C+, C, D, E ==> Qualitative Data\n#(ii) Colour of mangoes: yellow, green, orange, red  ==> Qualitative Data\n#(iii) Height data of a class: [178.9, 179, 179.5, 176, 177.2, 178.3, 175.8,...] ==> Quentitative Data\n#(iv) Number of mangoes exported by a farm: [500, 600, 478, 672, ...]  ==> Quentitative Data",
      "metadata": {},
      "execution_count": null,
      "outputs": []
    },
    {
      "cell_type": "code",
      "source": "#Q5. Explain the concept of levels of measurement and give an example of a variable for each level.\n#Answer:-Level of measurement also called scales of measurement, tell you how precisely variables are recorded\n# Example- Height, test score",
      "metadata": {},
      "execution_count": null,
      "outputs": []
    },
    {
      "cell_type": "code",
      "source": "'''Q6. Why is it important to understand the level of measurement when analyzing data? Provide an\nexample to illustrate your answer.'''\n#Answer:-\n''' It is important to understand the level of memasurement of variables in research, because the leel of measureent determines the data type of\nstatistical analysis that can be conducted, and therefore, the type of conclusions that can be drawn from the research.'''",
      "metadata": {},
      "execution_count": null,
      "outputs": []
    },
    {
      "cell_type": "code",
      "source": "#Q7. How nominal data type is different from ordinal data type.\n#Answer:- Nominal Data is classified without any ordering like Gender, Pincode while \n#Ordinal Data has natural order Like- Customer feedback, Good, Bad.",
      "metadata": {},
      "execution_count": null,
      "outputs": []
    },
    {
      "cell_type": "code",
      "source": "#Q8. Which type of plot can be used to display data in terms of range?\n#Answer:-Histogram",
      "metadata": {},
      "execution_count": null,
      "outputs": []
    },
    {
      "cell_type": "code",
      "source": "'''Q9. Describe the difference between descriptive and inferential statistics. Give an example of each\ntype of statistics and explain how they are used.'''\n#Answer:-Descriptive statistics focus on describing the visible characteriistics of a dataset. Meanwhile,\n#Inferential statistics focus on making predictions about large data.\n",
      "metadata": {},
      "execution_count": null,
      "outputs": []
    },
    {
      "cell_type": "code",
      "source": "'''Q10. What are some common measures of central tendency and variability used in statistics? Explain\nhow each measure can be used to describe a dataset.'''\n#Answer:-The four measures of central tendency are mean, median, mode and the mid-range.\n#Mean:-It is the avaerage of the given numbers and is calculated by dividing the sum of the sum of the given numbers.\n#Median:- The Middle Value of a sorted list of numbers.\n#Mode:-  The value that has a higher frequency in a gien set of values.\n#The Middle-range:- The arithmetic mean of the maximum and minimum values of data.",
      "metadata": {},
      "execution_count": null,
      "outputs": []
    }
  ]
}