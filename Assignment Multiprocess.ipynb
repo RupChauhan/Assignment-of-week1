{
  "metadata": {
    "language_info": {
      "codemirror_mode": {
        "name": "python",
        "version": 3
      },
      "file_extension": ".py",
      "mimetype": "text/x-python",
      "name": "python",
      "nbconvert_exporter": "python",
      "pygments_lexer": "ipython3",
      "version": "3.8"
    },
    "kernelspec": {
      "name": "python",
      "display_name": "Python (Pyodide)",
      "language": "python"
    }
  },
  "nbformat_minor": 4,
  "nbformat": 4,
  "cells": [
    {
      "cell_type": "code",
      "source": "'''Q1. What is multiprocessing in python? Why is it useful?\nQ2. What are the differences between multiprocessing and multithreading?\nQ3. Write a python code to create a process using the multiprocessing module.\nQ4. What is a multiprocessing pool in python? Why is it used?\nQ5. How can we create a pool of worker processes in python using the multiprocessing module?\nQ6. Write a python program to create 4 processes, each process should print a different number using the\nmultiprocessing module in python.'''",
      "metadata": {},
      "execution_count": null,
      "outputs": []
    },
    {
      "cell_type": "code",
      "source": "#Q1. What is multiprocessing in python? Why is it useful?\n#Answer:-  It is bulit-in package that allows the system to run multiple proesses simultaneously.\n",
      "metadata": {},
      "execution_count": null,
      "outputs": []
    },
    {
      "cell_type": "code",
      "source": "#Q2. What are the differences between multiprocessing and multithreading?\n#Answer:- Multiprocessing is dded to tye system to increase the computing power of the system, while\n#multithreads are created of a process to be executed the throughput of the system.",
      "metadata": {},
      "execution_count": null,
      "outputs": []
    },
    {
      "cell_type": "code",
      "source": "#Q3. Write a python code to create a process using the multiprocessing module.\n#Answer:-\nimport multiprocessing\ndef test():\n    print(\"This is my multiprocessing program.\")\n  \nif __name__ == '__main__':\n    m=multiprocessing.Process(target=test)\n    print(\"This is my main program.\")\n    m.start()\n    m.join()",
      "metadata": {
        "trusted": true
      },
      "execution_count": null,
      "outputs": []
    },
    {
      "cell_type": "code",
      "source": "test()",
      "metadata": {
        "trusted": true
      },
      "execution_count": null,
      "outputs": []
    },
    {
      "cell_type": "code",
      "source": "#Q4. What is a multiprocessing pool in python? Why is it used?\n#Answer:-Multiprocessing pool can be used fo parallel execution of a function across multiple input values, distr",
      "metadata": {},
      "execution_count": null,
      "outputs": []
    },
    {
      "cell_type": "code",
      "source": "#Q5. How can we create a pool of worker processes in python using the multiprocessing module?\n#Answer\ndef square(n):\n    return n**2\n\nif __name__ =='__main__':\n    with multiprocessing.Pool(processes=4) as pool:\n        out=pool.map(square,[1,2,3,4,5,6,7,8,9])\n        print(out)",
      "metadata": {},
      "execution_count": null,
      "outputs": []
    },
    {
      "cell_type": "code",
      "source": "'''Q6. Write a python program to create 4 processes, each process should print a different number using the\nmultiprocessing module in python.'''\n#Answer:- \nimport multiprocessing\ndef cude(n):\n    print(\"Cube:{}\".format(n*n*n))\ndef square(n):\n    print(\"Square:{}\".format(n**2))\n\nif __name__ =='__main__':\n    \n    p1=multiprocessing.Process(target=cude,args=10,)\n    p2=multiprocessing.Process(target=square,args=10,)\n    \np1.start()\np2.start()\np1.join()\np2.join()",
      "metadata": {},
      "execution_count": null,
      "outputs": []
    }
  ]
}