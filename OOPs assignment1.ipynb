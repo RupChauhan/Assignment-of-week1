{
  "metadata": {
    "language_info": {
      "codemirror_mode": {
        "name": "python",
        "version": 3
      },
      "file_extension": ".py",
      "mimetype": "text/x-python",
      "name": "python",
      "nbconvert_exporter": "python",
      "pygments_lexer": "ipython3",
      "version": "3.8"
    },
    "kernelspec": {
      "name": "python",
      "display_name": "Python (Pyodide)",
      "language": "python"
    }
  },
  "nbformat_minor": 4,
  "nbformat": 4,
  "cells": [
    {
      "cell_type": "code",
      "source": "'''Q1. Explain Class and Object with respect to Object-Oriented Programming. Give a suitable example.\nQ2. Name the four pillars of OOPs.\nQ3. Explain why the __init__() function is used. Give a suitable example.\nQ4. Why self is used in OOPs?\nQ5. What is inheritance? Give an example for each type of inheritance.'''",
      "metadata": {},
      "execution_count": null,
      "outputs": []
    },
    {
      "cell_type": "code",
      "source": "#Q1. Explain Class and Object with respect to Object-Oriented Programming. Give a suitable example.\n#Answer:-An object is an instance of a class.\n#Example:-\nclass myname:\n  x = \"Rupesh\"\n\np1 = myname()\nprint(p1.x)\n",
      "metadata": {
        "trusted": true
      },
      "execution_count": 25,
      "outputs": [
        {
          "name": "stdout",
          "text": "Rupesh\n",
          "output_type": "stream"
        }
      ]
    },
    {
      "cell_type": "code",
      "source": "#Q2. Name the four pillars of OOPs.\n#Answer:- The four pillars of OOPs are Encapsulation,Inheritance, Polymorphism and Data Abstruction",
      "metadata": {},
      "execution_count": null,
      "outputs": []
    },
    {
      "cell_type": "code",
      "source": "#Q3. Explain why the __init__() function is used. Give a suitable example.\n#Answer: We used __init__() fucntion to assign values to object properties.\nclass Person():\n    def __init__(self,fname,lname):\n        self.fname=fname\n        self.lname=lname\np=Person(\"Rupesh\",\"Kumar\")\n\nprint(p.fname, p.lname)\n",
      "metadata": {
        "trusted": true
      },
      "execution_count": 7,
      "outputs": [
        {
          "name": "stdout",
          "text": "Rupesh Kumar\n",
          "output_type": "stream"
        }
      ]
    },
    {
      "cell_type": "code",
      "source": "#Q4. Why self is used in OOPs?\n#Answer:- The self variable is used to represent the instane of the class.",
      "metadata": {},
      "execution_count": null,
      "outputs": []
    },
    {
      "cell_type": "code",
      "source": "#Q5. What is inheritance? Give an example for each type of inheritance.\n#Answer:- Inheritance alows us to define a class that inherits all the methods and properties from another class.\n#There are five types of inheritance in python.\n#1. Single Inheritance \n#Exmple\nclass parent:\n    def fun(self):\n        print(\"Exmple of Single Inheritance\")\n        print(\"This is parent class.\")\nclass child(parent):\n    def child(self):\n        print(\"This is child Class.\")\nobj=child()\nobj.fun()\nobj.fun()\n\n\n\n\n#2.Multiple Inheritance\n#Example:- \nclass student:\n    firststudent= \"\"\n    def student(self):\n        print(self.firststudent)\n\nclass teacher:\n    teachername=\"\"\n    def teacher(self):\n        \n        print(\"Exmple of Multiple Inheritance\")\n        print(self.teachername)\n        \nclass school (student, teacher):\n    def parents(self):\n        \n        print(\"Teacher is : \", self.teachername)\n        print(\"Student is : \", self.studentname)\ns=school()\ns.teachername =\"Drona Archarya\"\ns.studentname=\"Arjun\"\ns.parents()\n\n\n\n#3.Multilevel Inheritance\n#Exmple:- \nclass Grandfather:\n \n    def __init__(self, grandfathername):\n        self.grandfathername = grandfathername\nclass Father(Grandfather):\n    def __init__(self, fathername, grandfathername):\n        self.fathername = fathername\n \n        Grandfather.__init__(self, grandfathername)\nclass Son(Father):\n    def __init__(self, sonname, fathername, grandfathername):\n        self.sonname = sonname\n        Father.__init__(self, fathername, grandfathername)\n \n    def print_name(self):\n        \n        print('Grandfather name :', self.grandfathername)\n        print(\"Father name :\", self.fathername)\n        print(\"Son name :\", self.sonname)\ns1 = Son('Lav and Kush', 'Ram', 'Dashrath')\nprint(\"Example of Multiple Inheritance\")\ns1.print_name()\n\n\n#4.Hierachical Inheritance\n#Example:-\nclass Parent:\n    def func1(self):\n        print(\"This function is in parents class.\")\nclass Child1(Parent):\n    def func2(self):\n        print(\"This function is in child class 1.\")\nclass Child2(Parent):\n    def func3(self):\n        print(\"This function is in child class 2.\")\n\nobj1=Child1()\nobj2=Child2()\nprint(\"Example of Hierarchical Inheritance\")\nobj1.func1()\nobj1.func2()\nobj2.func1()\n\n\n\n#5.Hybrid Inheritance\n#Example\nclass School:\n    def func1(self):\n        print(\"This function is in school.\")\nclass student1(School):\n    def func2(self):\n        print(\"This function is in student 1.\")\nclass student2(School):\n    def func3(self):\n        print(\"This function is in student 2\")\nclass student3(student1, School):\n    def func4(self):\n        print(\"This function is in student 3\")\nobj=student3()\nprint(\"Example of Hybrid Inheritance\")\nobj.func1()\nobj.func2()\n\n",
      "metadata": {
        "trusted": true
      },
      "execution_count": 23,
      "outputs": [
        {
          "name": "stdout",
          "text": "Exmple of Single Inheritance\nThis is parent class.\nExmple of Single Inheritance\nThis is parent class.\nTeacher is :  Drona Archarya\nStudent is :  Arjun\nExample of Multiple Inheritance\nGrandfather name : Dashrath\nFather name : Ram\nSon name : Lav and Kush\nExample of Hierarchical Inheritance\nThis function is in parents class.\nThis function is in child class 1.\nThis function is in parents class.\nExample of Hybrid Inheritance\nThis function is in school.\nThis function is in student 1.\n",
          "output_type": "stream"
        }
      ]
    },
    {
      "cell_type": "code",
      "source": "",
      "metadata": {},
      "execution_count": null,
      "outputs": []
    }
  ]
}