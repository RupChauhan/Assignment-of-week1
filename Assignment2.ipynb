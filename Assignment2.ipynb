{
  "metadata": {
    "toc-showtags": false,
    "toc-autonumbering": true,
    "language_info": {
      "codemirror_mode": {
        "name": "python",
        "version": 3
      },
      "file_extension": ".py",
      "mimetype": "text/x-python",
      "name": "python",
      "nbconvert_exporter": "python",
      "pygments_lexer": "ipython3",
      "version": "3.8"
    },
    "kernelspec": {
      "name": "python",
      "display_name": "Python (Pyodide)",
      "language": "python"
    }
  },
  "nbformat_minor": 4,
  "nbformat": 4,
  "cells": [
    {
      "cell_type": "code",
      "source": "Q1. How do you comment code in Python? What are the different types of comments?\nQ2. What are variables in Python? How do you declare and assign values to variables?\nQ3. How do you convert one data type to another in Python?\nQ4. How do you write and execute a Python script from the command line?\nQ5. Given a list my_list=[1,2,3,4,5], write the code to slice the list and obtain he sub-list[2,3]\nQ6. What is a complex number in mathematics, and how is it representeed in Python?\nQ7. What is the correct way to declare a variable names age and asssign the value 25 to it?\nQ8. Declear a variable named price and asssign the value 9.99 to it. What data type does this variable belong to?\nQ9. Create a variable named  name and assign your full name is it as a string. How would you print the value of this variable?\nQ10. Given the string \"Hello,world!\", extract the substrig \"World\".\nQ11.Create a variable name\"is_student\" and assign it a boolean value indicating hether you currently a student or not. ",
      "metadata": {},
      "execution_count": null,
      "outputs": []
    },
    {
      "cell_type": "code",
      "source": "#Q1. How do you comment code in Python? What are the different types of comments?\n#We put \"#\" symbol before the code to do comment.\n#There are two types of comment.First is singal line comment and second is multiple line comment.\na=20 #this is single line comment\nstr='Rupesh'\nstr1=\"Kumar\" #this is multiple line comment",
      "metadata": {},
      "execution_count": null,
      "outputs": []
    },
    {
      "cell_type": "code",
      "source": "#Q2. What are variables in Python? How do you declare and assign values to variables?\n#Variables are container in python which are used to store data values.We can store different types data's values.\n#like integer, float, string, boolean, ec.\n#Example\nstr=\"Rupesh\"\nStr2=\"Kumar\"\nFlt=2.35\na=125",
      "metadata": {
        "trusted": true
      },
      "execution_count": 4,
      "outputs": []
    },
    {
      "cell_type": "code",
      "source": "#Q3. How do you convert one data type to another in Python?\n#Answer--We can directly convert one data type to anothery by typecasting in Python.",
      "metadata": {},
      "execution_count": null,
      "outputs": []
    },
    {
      "cell_type": "code",
      "source": "#Q4. How do you write and execute a Python script from the command line?\n#This is very easy to write  and execute a Python script. You just need to open the a command line and type the python script like below...\nprint(\"HI, pwskils\")",
      "metadata": {
        "trusted": true
      },
      "execution_count": 2,
      "outputs": [
        {
          "name": "stdout",
          "text": "HI, pwskils\n",
          "output_type": "stream"
        }
      ]
    },
    {
      "cell_type": "code",
      "source": "#Q5. Given a list my_list=[1,2,3,4,5], write the code to slice the list and obtain he sub-list[2,3]\nmy_list=[1,2,3,4,5]\nprint(my_list[1:3])",
      "metadata": {
        "trusted": true
      },
      "execution_count": 9,
      "outputs": [
        {
          "name": "stdout",
          "text": "[2, 3]\n",
          "output_type": "stream"
        }
      ]
    },
    {
      "cell_type": "code",
      "source": "#Q6. What is a complex number in mathematics, and how is it representeed in Python?\ncmp=complex('5+7j')\nprint(\"The real part is  :\",cmp.real)\nprint(\"The imaginary part is  :\",cmp.imag)\nprint(\"The complex number is \",cmp)",
      "metadata": {
        "trusted": true
      },
      "execution_count": 14,
      "outputs": [
        {
          "name": "stdout",
          "text": "The real part is  : 5.0\nThe imaginary part is  : 7.0\nThe complex number is  (5+7j)\n",
          "output_type": "stream"
        }
      ]
    },
    {
      "cell_type": "code",
      "source": "#Q7. What is the correct way to declare a variable names age and asssign the value 25 to it?\nage=25\nprint(\"Your age will be\",age,\"years old.\")",
      "metadata": {
        "trusted": true
      },
      "execution_count": 16,
      "outputs": [
        {
          "name": "stdout",
          "text": "Your age will be 25 years old.\n",
          "output_type": "stream"
        }
      ]
    },
    {
      "cell_type": "code",
      "source": "#Q8. Declear a variable named price and asssign the value 9.99 to it. What data type does this variable belong to?\nprice=(9.99)\nprint(type(price))",
      "metadata": {
        "trusted": true
      },
      "execution_count": 20,
      "outputs": [
        {
          "name": "stdout",
          "text": "<class 'float'>\n",
          "output_type": "stream"
        }
      ]
    },
    {
      "cell_type": "code",
      "source": "#Q9. Create a variable named  name and assign your full name is it as a string. How would you print the value of this variable?\nname = \"Rupesh Kumar\"\nprint(\"My name is \",name)",
      "metadata": {
        "trusted": true
      },
      "execution_count": 21,
      "outputs": [
        {
          "name": "stdout",
          "text": "My name is  Rupesh Kumar\n",
          "output_type": "stream"
        }
      ]
    },
    {
      "cell_type": "code",
      "source": "#Q10. Given the string \"Hello,world!\", extract the substrig \"World\".\ns='Hello,world!'\ns[6:11]",
      "metadata": {
        "trusted": true
      },
      "execution_count": 37,
      "outputs": [
        {
          "execution_count": 37,
          "output_type": "execute_result",
          "data": {
            "text/plain": "'world'"
          },
          "metadata": {}
        }
      ]
    },
    {
      "cell_type": "code",
      "source": "#Q11.Create a variable name\"is_student\" and assign it a boolean value indicating whether you currently a student or not. \nis_student= bool(True)\nif is_student== True:\n    print(\"I am a student.\")\nelse:\n    print(\"I am not a student.\")",
      "metadata": {
        "trusted": true
      },
      "execution_count": 41,
      "outputs": [
        {
          "name": "stdout",
          "text": "I am a student.\n",
          "output_type": "stream"
        }
      ]
    },
    {
      "cell_type": "code",
      "source": "",
      "metadata": {},
      "execution_count": null,
      "outputs": []
    }
  ]
}