{
  "metadata": {
    "language_info": {
      "codemirror_mode": {
        "name": "python",
        "version": 3
      },
      "file_extension": ".py",
      "mimetype": "text/x-python",
      "name": "python",
      "nbconvert_exporter": "python",
      "pygments_lexer": "ipython3",
      "version": "3.8"
    },
    "kernelspec": {
      "name": "python",
      "display_name": "Python (Pyodide)",
      "language": "python"
    }
  },
  "nbformat_minor": 4,
  "nbformat": 4,
  "cells": [
    {
      "cell_type": "code",
      "source": "'''Q1). what is multithreading in python? why is it used?\nName the module used to handle threads in python\n\nQ2). why threading module used? write the use of the following functions\n1.activeCount()\n2. currentThread()\n 3.enumerate()\n Q3). Explain the following functions\n1.run()\n2 start()\n3. join()\n4 isAlive()\nQ4). write a python program to create two threads. Thread one must print the list of squares and thread two must print the list of cubes.\n\n\nQ5). State advantages and disadvantages of multithreading\nQ6). Explain deadlocks and race conditions.'''",
      "metadata": {},
      "execution_count": null,
      "outputs": []
    },
    {
      "cell_type": "code",
      "source": "#Q1). what is multithreading in python? why is it used? Name the module used to handle threads in python.\n#Answer:-\n'''The threading module is a high-level implementation of multithreading used to deploy an application.\nTo use multithreading, we need to import the threading module in Python Program.\nA start() method is used to initiate the activity of a thread'''",
      "metadata": {},
      "execution_count": null,
      "outputs": []
    },
    {
      "cell_type": "code",
      "source": "'''Q2). why threading module used? write the use of the following functions\n1.activeCount()\n2. currentThread()\n 3.enumerate()'''\n#Answer:-\n'''Threading module used to have different parts of our program run concurrently and can simplify our design.\n1.activeCount():- To determine when all threads are done.\n2. currentThread():- Return the number of thread objects in the caller's thread control.\n3.enumerate():- Return a list of all the thread object that are currently active.'''",
      "metadata": {},
      "execution_count": null,
      "outputs": []
    },
    {
      "cell_type": "code",
      "source": "''' Q3). Explain the following functions\n1.run()\n2 start()\n3. join()\n4 isAlive()'''\n#Answer:-\n'''1.run():- Open a command-line and type in the word python.\n2 start():-This method is an inbuit method of the Thread class of the threading module, it is used to start a thread's activity.\n3. join():- This method takes all items in an iterable and joins them into one string.\n4 isAlive():- It is used to check whether that thread is alive or not.'''",
      "metadata": {},
      "execution_count": null,
      "outputs": []
    },
    {
      "cell_type": "code",
      "source": "#Q4). write a python program to create two threads. Thread one must print the list of squares and thread two must print the list of cubes.\n#Answer:-\nimport threading\n\n\ndef print_cube(num):\n    print(\"Cube: {}\" .format(num * num * num))\n\ndef print_square(num):\n    print(\"Square: {}\" .format(num * num))\n\nif __name__ ==\"__main__\":\n    t1 = threading.Thread(target=print_square, args=(10,))\n    t2 = threading.Thread(target=print_cube, args=(10,))\n\n    t1.start()\n    t2.start()\n    t1.join()\n    t2.join()",
      "metadata": {},
      "execution_count": null,
      "outputs": []
    },
    {
      "cell_type": "code",
      "source": "#Q5). State advantages and disadvantages of multithreading\n#Answer-\n'''Advantage:.\n \n1. Thread switching does not require Kernel mode priveileges.\n2. User level thread can run on any operating system.\n3. Scheduling can be application specific in the user level thread.\n4. User level threads are fast to create and manage\nDisadvantage:-\n1. In a typical operating system, most system calls are blocking.\n2. Multithreaded application cannot take advantage of multiprocessing.",
      "metadata": {},
      "execution_count": null,
      "outputs": []
    },
    {
      "cell_type": "code",
      "source": "#Q6). Explain deadlocks and race conditions.\n#Answer:-\n'''\nRace conditions:- A race condition occurs when two threads use the same variable at a given time.\nDeadlock :- Deadlock exists when two threads seek one lock simultaneously.\nThis situation will stop both threads from processing or executing the function.\n'''",
      "metadata": {},
      "execution_count": null,
      "outputs": []
    }
  ]
}